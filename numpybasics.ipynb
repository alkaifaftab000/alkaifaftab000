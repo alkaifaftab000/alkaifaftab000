{
 "cells": [
  {
   "cell_type": "code",
   "execution_count": 1,
   "id": "5b95872f",
   "metadata": {
    "_cell_guid": "b1076dfc-b9ad-4769-8c92-a6c4dae69d19",
    "_uuid": "8f2839f25d086af736a60e9eeb907d3b93b6e0e5",
    "execution": {
     "iopub.execute_input": "2025-02-09T07:20:38.166090Z",
     "iopub.status.busy": "2025-02-09T07:20:38.165731Z",
     "iopub.status.idle": "2025-02-09T07:20:38.170438Z",
     "shell.execute_reply": "2025-02-09T07:20:38.169601Z"
    },
    "papermill": {
     "duration": 0.01354,
     "end_time": "2025-02-09T07:20:38.171734",
     "exception": false,
     "start_time": "2025-02-09T07:20:38.158194",
     "status": "completed"
    },
    "tags": []
   },
   "outputs": [],
   "source": [
    "import numpy as np "
   ]
  },
  {
   "cell_type": "code",
   "execution_count": 2,
   "id": "cbc33b7a",
   "metadata": {
    "execution": {
     "iopub.execute_input": "2025-02-09T07:20:38.184067Z",
     "iopub.status.busy": "2025-02-09T07:20:38.183827Z",
     "iopub.status.idle": "2025-02-09T07:20:38.188475Z",
     "shell.execute_reply": "2025-02-09T07:20:38.187874Z"
    },
    "papermill": {
     "duration": 0.011984,
     "end_time": "2025-02-09T07:20:38.189702",
     "exception": false,
     "start_time": "2025-02-09T07:20:38.177718",
     "status": "completed"
    },
    "tags": []
   },
   "outputs": [
    {
     "data": {
      "text/plain": [
       "'1.26.4'"
      ]
     },
     "execution_count": 2,
     "metadata": {},
     "output_type": "execute_result"
    }
   ],
   "source": [
    "np.__version__\n"
   ]
  },
  {
   "cell_type": "code",
   "execution_count": 3,
   "id": "07a05eb7",
   "metadata": {
    "execution": {
     "iopub.execute_input": "2025-02-09T07:20:38.202001Z",
     "iopub.status.busy": "2025-02-09T07:20:38.201769Z",
     "iopub.status.idle": "2025-02-09T07:20:38.204725Z",
     "shell.execute_reply": "2025-02-09T07:20:38.204164Z"
    },
    "papermill": {
     "duration": 0.010292,
     "end_time": "2025-02-09T07:20:38.205952",
     "exception": false,
     "start_time": "2025-02-09T07:20:38.195660",
     "status": "completed"
    },
    "tags": []
   },
   "outputs": [],
   "source": [
    "a = [1,2,3,4]\n",
    "b = (1,2,3,4) \n",
    "c = \"alkaif ansari\"\n",
    "d = {1:\"alkaif\",2:\"riza\"}"
   ]
  },
  {
   "cell_type": "code",
   "execution_count": 4,
   "id": "c9190f3f",
   "metadata": {
    "execution": {
     "iopub.execute_input": "2025-02-09T07:20:38.218025Z",
     "iopub.status.busy": "2025-02-09T07:20:38.217783Z",
     "iopub.status.idle": "2025-02-09T07:20:38.220735Z",
     "shell.execute_reply": "2025-02-09T07:20:38.220147Z"
    },
    "papermill": {
     "duration": 0.010143,
     "end_time": "2025-02-09T07:20:38.221830",
     "exception": false,
     "start_time": "2025-02-09T07:20:38.211687",
     "status": "completed"
    },
    "tags": []
   },
   "outputs": [],
   "source": [
    "def printArray(x):\n",
    "    print(f\"Array : {x} Type : {type(x)}\")"
   ]
  },
  {
   "cell_type": "code",
   "execution_count": 5,
   "id": "80e145b2",
   "metadata": {
    "execution": {
     "iopub.execute_input": "2025-02-09T07:20:38.234123Z",
     "iopub.status.busy": "2025-02-09T07:20:38.233931Z",
     "iopub.status.idle": "2025-02-09T07:20:38.238130Z",
     "shell.execute_reply": "2025-02-09T07:20:38.237503Z"
    },
    "papermill": {
     "duration": 0.011628,
     "end_time": "2025-02-09T07:20:38.239340",
     "exception": false,
     "start_time": "2025-02-09T07:20:38.227712",
     "status": "completed"
    },
    "tags": []
   },
   "outputs": [
    {
     "data": {
      "text/plain": [
       "array(['alkaif', 'riza'], dtype='<U6')"
      ]
     },
     "execution_count": 5,
     "metadata": {},
     "output_type": "execute_result"
    }
   ],
   "source": [
    "np.array([\"alkaif\",\"riza\"])"
   ]
  },
  {
   "cell_type": "code",
   "execution_count": 6,
   "id": "f8ff4181",
   "metadata": {
    "execution": {
     "iopub.execute_input": "2025-02-09T07:20:38.251897Z",
     "iopub.status.busy": "2025-02-09T07:20:38.251665Z",
     "iopub.status.idle": "2025-02-09T07:20:38.256462Z",
     "shell.execute_reply": "2025-02-09T07:20:38.255607Z"
    },
    "papermill": {
     "duration": 0.012241,
     "end_time": "2025-02-09T07:20:38.257516",
     "exception": false,
     "start_time": "2025-02-09T07:20:38.245275",
     "status": "completed"
    },
    "tags": []
   },
   "outputs": [
    {
     "name": "stdout",
     "output_type": "stream",
     "text": [
      "Array : [1 2 3 4] Type : <class 'numpy.ndarray'>\n"
     ]
    }
   ],
   "source": [
    "printArray(np.array(a))"
   ]
  },
  {
   "cell_type": "code",
   "execution_count": 7,
   "id": "a79bc9a5",
   "metadata": {
    "execution": {
     "iopub.execute_input": "2025-02-09T07:20:38.270014Z",
     "iopub.status.busy": "2025-02-09T07:20:38.269766Z",
     "iopub.status.idle": "2025-02-09T07:20:38.273547Z",
     "shell.execute_reply": "2025-02-09T07:20:38.272805Z"
    },
    "papermill": {
     "duration": 0.011366,
     "end_time": "2025-02-09T07:20:38.274736",
     "exception": false,
     "start_time": "2025-02-09T07:20:38.263370",
     "status": "completed"
    },
    "tags": []
   },
   "outputs": [
    {
     "name": "stdout",
     "output_type": "stream",
     "text": [
      "Array : [1 2 3 4] Type : <class 'numpy.ndarray'>\n"
     ]
    }
   ],
   "source": [
    "printArray(np.array(b))"
   ]
  },
  {
   "cell_type": "code",
   "execution_count": 8,
   "id": "628bc505",
   "metadata": {
    "execution": {
     "iopub.execute_input": "2025-02-09T07:20:38.287269Z",
     "iopub.status.busy": "2025-02-09T07:20:38.287060Z",
     "iopub.status.idle": "2025-02-09T07:20:38.290536Z",
     "shell.execute_reply": "2025-02-09T07:20:38.289944Z"
    },
    "papermill": {
     "duration": 0.011042,
     "end_time": "2025-02-09T07:20:38.291656",
     "exception": false,
     "start_time": "2025-02-09T07:20:38.280614",
     "status": "completed"
    },
    "tags": []
   },
   "outputs": [
    {
     "name": "stdout",
     "output_type": "stream",
     "text": [
      "Array : alkaif ansari Type : <class 'numpy.ndarray'>\n"
     ]
    }
   ],
   "source": [
    "printArray(np.array(c))"
   ]
  },
  {
   "cell_type": "code",
   "execution_count": 9,
   "id": "7b8f325c",
   "metadata": {
    "execution": {
     "iopub.execute_input": "2025-02-09T07:20:38.304133Z",
     "iopub.status.busy": "2025-02-09T07:20:38.303933Z",
     "iopub.status.idle": "2025-02-09T07:20:38.307592Z",
     "shell.execute_reply": "2025-02-09T07:20:38.306901Z"
    },
    "papermill": {
     "duration": 0.011265,
     "end_time": "2025-02-09T07:20:38.308790",
     "exception": false,
     "start_time": "2025-02-09T07:20:38.297525",
     "status": "completed"
    },
    "tags": []
   },
   "outputs": [
    {
     "name": "stdout",
     "output_type": "stream",
     "text": [
      "Array : {1: 'alkaif', 2: 'riza'} Type : <class 'numpy.ndarray'>\n"
     ]
    }
   ],
   "source": [
    "printArray(np.array(d))"
   ]
  },
  {
   "cell_type": "markdown",
   "id": "136c0dd5",
   "metadata": {
    "papermill": {
     "duration": 0.005904,
     "end_time": "2025-02-09T07:20:38.320779",
     "exception": false,
     "start_time": "2025-02-09T07:20:38.314875",
     "status": "completed"
    },
    "tags": []
   },
   "source": [
    "### np.array()\n",
    "* #### converts any data type to numpy array\n",
    "* #### has mainly five parameters\n",
    "* #### data\n",
    "* #### datatype - like float, int, uint\n",
    "* #### copy - whether copy the or works on the same\n",
    "* #### order - row order C, column order F\n",
    "* #### subok\n",
    "* #### ndim"
   ]
  },
  {
   "cell_type": "markdown",
   "id": "6b8cb829",
   "metadata": {
    "papermill": {
     "duration": 0.006155,
     "end_time": "2025-02-09T07:20:38.332887",
     "exception": false,
     "start_time": "2025-02-09T07:20:38.326732",
     "status": "completed"
    },
    "tags": []
   },
   "source": [
    "### Data Types in Numpy\n",
    "* #### np.int_ or int - default 32\n",
    "* #### np.int8, np.int16, np.int64\n",
    "* #### np.uint8, np.uint16, np.uint32, np.uint64\n",
    "* #### np.float16, np.float32, np.float64 or np.float_ or float\n",
    "* #### np.complex64, np.complex128 or np.complex\n",
    "* #### bool or np.bool\n",
    "* #### np.str_ - fixed length string\n",
    "* #### np.unicode_ - fixed length unicode\n",
    "* #### np.object_\n",
    "* #### np.void"
   ]
  },
  {
   "cell_type": "code",
   "execution_count": 10,
   "id": "5e93a025",
   "metadata": {
    "execution": {
     "iopub.execute_input": "2025-02-09T07:20:38.346379Z",
     "iopub.status.busy": "2025-02-09T07:20:38.346131Z",
     "iopub.status.idle": "2025-02-09T07:20:38.351362Z",
     "shell.execute_reply": "2025-02-09T07:20:38.350678Z"
    },
    "papermill": {
     "duration": 0.013671,
     "end_time": "2025-02-09T07:20:38.352488",
     "exception": false,
     "start_time": "2025-02-09T07:20:38.338817",
     "status": "completed"
    },
    "tags": []
   },
   "outputs": [
    {
     "data": {
      "text/plain": [
       "array([[1., 2., 3., 4.]])"
      ]
     },
     "execution_count": 10,
     "metadata": {},
     "output_type": "execute_result"
    }
   ],
   "source": [
    "# data, datatype, copy, order, subok, ndim\n",
    "np.array([1,2,3,4],dtype=float,copy=True,order=\"F\",subok=False,ndmin=2)"
   ]
  },
  {
   "cell_type": "code",
   "execution_count": 11,
   "id": "6cef9e99",
   "metadata": {
    "execution": {
     "iopub.execute_input": "2025-02-09T07:20:38.366053Z",
     "iopub.status.busy": "2025-02-09T07:20:38.365752Z",
     "iopub.status.idle": "2025-02-09T07:20:38.370441Z",
     "shell.execute_reply": "2025-02-09T07:20:38.369532Z"
    },
    "papermill": {
     "duration": 0.012972,
     "end_time": "2025-02-09T07:20:38.371709",
     "exception": false,
     "start_time": "2025-02-09T07:20:38.358737",
     "status": "completed"
    },
    "tags": []
   },
   "outputs": [
    {
     "name": "stdout",
     "output_type": "stream",
     "text": [
      "Array : [0 1 2 3 4 5 6 7 8] Type : <class 'numpy.ndarray'>\n"
     ]
    }
   ],
   "source": [
    "arr = np.arange(9)\n",
    "printArray(arr)"
   ]
  },
  {
   "cell_type": "code",
   "execution_count": 12,
   "id": "8cfc0be6",
   "metadata": {
    "execution": {
     "iopub.execute_input": "2025-02-09T07:20:38.384765Z",
     "iopub.status.busy": "2025-02-09T07:20:38.384549Z",
     "iopub.status.idle": "2025-02-09T07:20:38.389192Z",
     "shell.execute_reply": "2025-02-09T07:20:38.388428Z"
    },
    "papermill": {
     "duration": 0.012546,
     "end_time": "2025-02-09T07:20:38.390493",
     "exception": false,
     "start_time": "2025-02-09T07:20:38.377947",
     "status": "completed"
    },
    "tags": []
   },
   "outputs": [
    {
     "data": {
      "text/plain": [
       "array([0., 1., 2., 3., 4., 5., 6., 7., 8.])"
      ]
     },
     "execution_count": 12,
     "metadata": {},
     "output_type": "execute_result"
    }
   ],
   "source": [
    "np.array(arr,dtype=float,copy=False)"
   ]
  },
  {
   "cell_type": "code",
   "execution_count": 13,
   "id": "c269b479",
   "metadata": {
    "execution": {
     "iopub.execute_input": "2025-02-09T07:20:38.403716Z",
     "iopub.status.busy": "2025-02-09T07:20:38.403382Z",
     "iopub.status.idle": "2025-02-09T07:20:38.407741Z",
     "shell.execute_reply": "2025-02-09T07:20:38.406912Z"
    },
    "papermill": {
     "duration": 0.012257,
     "end_time": "2025-02-09T07:20:38.409063",
     "exception": false,
     "start_time": "2025-02-09T07:20:38.396806",
     "status": "completed"
    },
    "tags": []
   },
   "outputs": [
    {
     "name": "stdout",
     "output_type": "stream",
     "text": [
      "Array : [0 1 2 3 4 5 6 7 8] Type : <class 'numpy.ndarray'>\n"
     ]
    }
   ],
   "source": [
    "arr1=np.array(arr,copy=False)\n",
    "printArray(arr1)"
   ]
  },
  {
   "cell_type": "code",
   "execution_count": 14,
   "id": "53c2e68a",
   "metadata": {
    "execution": {
     "iopub.execute_input": "2025-02-09T07:20:38.422427Z",
     "iopub.status.busy": "2025-02-09T07:20:38.422239Z",
     "iopub.status.idle": "2025-02-09T07:20:38.426558Z",
     "shell.execute_reply": "2025-02-09T07:20:38.425920Z"
    },
    "papermill": {
     "duration": 0.012414,
     "end_time": "2025-02-09T07:20:38.427764",
     "exception": false,
     "start_time": "2025-02-09T07:20:38.415350",
     "status": "completed"
    },
    "tags": []
   },
   "outputs": [
    {
     "data": {
      "text/plain": [
       "array([ 0,  1, -1,  3,  4,  5,  6,  7,  8])"
      ]
     },
     "execution_count": 14,
     "metadata": {},
     "output_type": "execute_result"
    }
   ],
   "source": [
    "arr1[2]=-1\n",
    "arr"
   ]
  },
  {
   "cell_type": "markdown",
   "id": "782cbea9",
   "metadata": {
    "papermill": {
     "duration": 0.006115,
     "end_time": "2025-02-09T07:20:38.440189",
     "exception": false,
     "start_time": "2025-02-09T07:20:38.434074",
     "status": "completed"
    },
    "tags": []
   },
   "source": [
    "### Indexing \n",
    "* #### arrayName[index]"
   ]
  },
  {
   "cell_type": "code",
   "execution_count": 15,
   "id": "0d713345",
   "metadata": {
    "execution": {
     "iopub.execute_input": "2025-02-09T07:20:38.453285Z",
     "iopub.status.busy": "2025-02-09T07:20:38.453093Z",
     "iopub.status.idle": "2025-02-09T07:20:38.457197Z",
     "shell.execute_reply": "2025-02-09T07:20:38.456429Z"
    },
    "papermill": {
     "duration": 0.012231,
     "end_time": "2025-02-09T07:20:38.458637",
     "exception": false,
     "start_time": "2025-02-09T07:20:38.446406",
     "status": "completed"
    },
    "tags": []
   },
   "outputs": [
    {
     "data": {
      "text/plain": [
       "array([ 0,  1, -1,  3,  4,  5,  6,  7,  8])"
      ]
     },
     "execution_count": 15,
     "metadata": {},
     "output_type": "execute_result"
    }
   ],
   "source": [
    "arr"
   ]
  },
  {
   "cell_type": "code",
   "execution_count": 16,
   "id": "47d84c44",
   "metadata": {
    "execution": {
     "iopub.execute_input": "2025-02-09T07:20:38.471999Z",
     "iopub.status.busy": "2025-02-09T07:20:38.471768Z",
     "iopub.status.idle": "2025-02-09T07:20:38.475980Z",
     "shell.execute_reply": "2025-02-09T07:20:38.475291Z"
    },
    "papermill": {
     "duration": 0.012253,
     "end_time": "2025-02-09T07:20:38.477239",
     "exception": false,
     "start_time": "2025-02-09T07:20:38.464986",
     "status": "completed"
    },
    "tags": []
   },
   "outputs": [
    {
     "name": "stdout",
     "output_type": "stream",
     "text": [
      "2   4\n",
      "-1   4\n"
     ]
    }
   ],
   "source": [
    "random1 = np.random.randint(3)\n",
    "random2 = np.random.randint(9)\n",
    "print(random1,\" \",random2)\n",
    "print(arr[random1],\" \",arr[random2] )"
   ]
  },
  {
   "cell_type": "code",
   "execution_count": 17,
   "id": "f78dbe18",
   "metadata": {
    "execution": {
     "iopub.execute_input": "2025-02-09T07:20:38.490667Z",
     "iopub.status.busy": "2025-02-09T07:20:38.490474Z",
     "iopub.status.idle": "2025-02-09T07:20:38.497267Z",
     "shell.execute_reply": "2025-02-09T07:20:38.496383Z"
    },
    "papermill": {
     "duration": 0.015021,
     "end_time": "2025-02-09T07:20:38.498601",
     "exception": false,
     "start_time": "2025-02-09T07:20:38.483580",
     "status": "completed"
    },
    "tags": []
   },
   "outputs": [
    {
     "name": "stdout",
     "output_type": "stream",
     "text": [
      "[[1 2 3 4 5 6 7 8 9]\n",
      " [9 8 7 6 5 4 3 2 1]\n",
      " [0 0 0 0 0 0 0 0 0]]\n",
      "2 4\n"
     ]
    },
    {
     "data": {
      "text/plain": [
       "0"
      ]
     },
     "execution_count": 17,
     "metadata": {},
     "output_type": "execute_result"
    }
   ],
   "source": [
    "array2d = np.array([[1,2,3,4,5,6,7,8,9],[9,8,7,6,5,4,3,2,1],[0,0,0,0,0,0,0,0,0]],ndmin=2)\n",
    "print(array2d)\n",
    "print(random1,random2)\n",
    "array2d[random1,random2]"
   ]
  },
  {
   "cell_type": "code",
   "execution_count": 18,
   "id": "4dc9d85c",
   "metadata": {
    "execution": {
     "iopub.execute_input": "2025-02-09T07:20:38.512412Z",
     "iopub.status.busy": "2025-02-09T07:20:38.512221Z",
     "iopub.status.idle": "2025-02-09T07:20:38.518204Z",
     "shell.execute_reply": "2025-02-09T07:20:38.517432Z"
    },
    "papermill": {
     "duration": 0.014184,
     "end_time": "2025-02-09T07:20:38.519489",
     "exception": false,
     "start_time": "2025-02-09T07:20:38.505305",
     "status": "completed"
    },
    "tags": []
   },
   "outputs": [
    {
     "name": "stdout",
     "output_type": "stream",
     "text": [
      "[[[ 1  2  3]\n",
      "  [ 4  5  6]\n",
      "  [ 7  8  9]]\n",
      "\n",
      " [[-1 -2 -3]\n",
      "  [-4 -5 -6]\n",
      "  [-7 -8 -9]]]\n"
     ]
    },
    {
     "data": {
      "text/plain": [
       "-4"
      ]
     },
     "execution_count": 18,
     "metadata": {},
     "output_type": "execute_result"
    }
   ],
   "source": [
    "array3d = np.array([[[1,2,3],[4,5,6],[7,8,9]],[[-1,-2,-3],[-4,-5,-6],[-7,-8,-9]]],ndmin=3)\n",
    "print(array3d)\n",
    "\n",
    "array3d[1,np.random.randint(3),np.random.randint(3)]"
   ]
  },
  {
   "cell_type": "markdown",
   "id": "7b0b251f",
   "metadata": {
    "papermill": {
     "duration": 0.006548,
     "end_time": "2025-02-09T07:20:38.532643",
     "exception": false,
     "start_time": "2025-02-09T07:20:38.526095",
     "status": "completed"
    },
    "tags": []
   },
   "source": [
    "### Slicing \n",
    "* #### ArrayName[sliceRange]\n",
    "* #### ArrayName[start:end]"
   ]
  },
  {
   "cell_type": "code",
   "execution_count": 19,
   "id": "0e9e2fa9",
   "metadata": {
    "execution": {
     "iopub.execute_input": "2025-02-09T07:20:38.546716Z",
     "iopub.status.busy": "2025-02-09T07:20:38.546491Z",
     "iopub.status.idle": "2025-02-09T07:20:38.553094Z",
     "shell.execute_reply": "2025-02-09T07:20:38.552485Z"
    },
    "papermill": {
     "duration": 0.015,
     "end_time": "2025-02-09T07:20:38.554270",
     "exception": false,
     "start_time": "2025-02-09T07:20:38.539270",
     "status": "completed"
    },
    "tags": []
   },
   "outputs": [
    {
     "name": "stdout",
     "output_type": "stream",
     "text": [
      "[ 0  1 -1  3  4  5  6  7  8]\n",
      "[ 0  1 -1  3]\n",
      "[4 5 6 7 8]\n",
      "[ 1 -1  3]\n",
      "[5 6 7]\n"
     ]
    },
    {
     "data": {
      "text/plain": [
       "array([1, 3, 5])"
      ]
     },
     "execution_count": 19,
     "metadata": {},
     "output_type": "execute_result"
    }
   ],
   "source": [
    "print(arr[:])\n",
    "print(arr[:4]) # end is not include [,)\n",
    "print(arr[4:])\n",
    "print(arr[1:4])\n",
    "print(arr[-4:-1])\n",
    "arr[1:6:2]"
   ]
  },
  {
   "cell_type": "markdown",
   "id": "865d92d1",
   "metadata": {
    "papermill": {
     "duration": 0.006415,
     "end_time": "2025-02-09T07:20:38.567729",
     "exception": false,
     "start_time": "2025-02-09T07:20:38.561314",
     "status": "completed"
    },
    "tags": []
   },
   "source": [
    "### Double Colon\n",
    "* #### Used to slice the array based on specific pattern or step\n",
    "* #### Like 1,3,5,...\n",
    "* #### Like 1,5,9,..."
   ]
  },
  {
   "cell_type": "code",
   "execution_count": 20,
   "id": "5e7a82b3",
   "metadata": {
    "execution": {
     "iopub.execute_input": "2025-02-09T07:20:38.581721Z",
     "iopub.status.busy": "2025-02-09T07:20:38.581468Z",
     "iopub.status.idle": "2025-02-09T07:20:38.586192Z",
     "shell.execute_reply": "2025-02-09T07:20:38.585344Z"
    },
    "papermill": {
     "duration": 0.013154,
     "end_time": "2025-02-09T07:20:38.587485",
     "exception": false,
     "start_time": "2025-02-09T07:20:38.574331",
     "status": "completed"
    },
    "tags": []
   },
   "outputs": [
    {
     "name": "stdout",
     "output_type": "stream",
     "text": [
      "[ 0  1 -1  3  4  5  6  7  8]\n",
      "[1 4 7]\n",
      "[1]\n"
     ]
    }
   ],
   "source": [
    "print(arr[::])\n",
    "print(arr[1::3])\n",
    "print(arr[1::-3])  # no element from start to -3 steps backward except one "
   ]
  },
  {
   "cell_type": "code",
   "execution_count": 21,
   "id": "882be7d6",
   "metadata": {
    "execution": {
     "iopub.execute_input": "2025-02-09T07:20:38.602039Z",
     "iopub.status.busy": "2025-02-09T07:20:38.601796Z",
     "iopub.status.idle": "2025-02-09T07:20:38.605772Z",
     "shell.execute_reply": "2025-02-09T07:20:38.605112Z"
    },
    "papermill": {
     "duration": 0.012827,
     "end_time": "2025-02-09T07:20:38.607018",
     "exception": false,
     "start_time": "2025-02-09T07:20:38.594191",
     "status": "completed"
    },
    "tags": []
   },
   "outputs": [
    {
     "name": "stdout",
     "output_type": "stream",
     "text": [
      "[ 8  7  6  5  4  3 -1  1  0]\n",
      "[ 8  5 -1]\n"
     ]
    }
   ],
   "source": [
    "print(arr[::-1])\n",
    "print(arr[::-3])"
   ]
  },
  {
   "cell_type": "markdown",
   "id": "07fd8c05",
   "metadata": {
    "papermill": {
     "duration": 0.006562,
     "end_time": "2025-02-09T07:20:38.620339",
     "exception": false,
     "start_time": "2025-02-09T07:20:38.613777",
     "status": "completed"
    },
    "tags": []
   },
   "source": [
    "### 2D Slicing\n",
    "* #### ArrayName[row,start:end]"
   ]
  },
  {
   "cell_type": "code",
   "execution_count": 22,
   "id": "78e9247a",
   "metadata": {
    "execution": {
     "iopub.execute_input": "2025-02-09T07:20:38.634365Z",
     "iopub.status.busy": "2025-02-09T07:20:38.634175Z",
     "iopub.status.idle": "2025-02-09T07:20:38.638328Z",
     "shell.execute_reply": "2025-02-09T07:20:38.637568Z"
    },
    "papermill": {
     "duration": 0.01249,
     "end_time": "2025-02-09T07:20:38.639554",
     "exception": false,
     "start_time": "2025-02-09T07:20:38.627064",
     "status": "completed"
    },
    "tags": []
   },
   "outputs": [
    {
     "data": {
      "text/plain": [
       "array([1, 4, 7])"
      ]
     },
     "execution_count": 22,
     "metadata": {},
     "output_type": "execute_result"
    }
   ],
   "source": [
    "array2d[1,::-3]"
   ]
  },
  {
   "cell_type": "code",
   "execution_count": 23,
   "id": "7275314a",
   "metadata": {
    "execution": {
     "iopub.execute_input": "2025-02-09T07:20:38.654099Z",
     "iopub.status.busy": "2025-02-09T07:20:38.653892Z",
     "iopub.status.idle": "2025-02-09T07:20:38.658956Z",
     "shell.execute_reply": "2025-02-09T07:20:38.658179Z"
    },
    "papermill": {
     "duration": 0.013789,
     "end_time": "2025-02-09T07:20:38.660227",
     "exception": false,
     "start_time": "2025-02-09T07:20:38.646438",
     "status": "completed"
    },
    "tags": []
   },
   "outputs": [
    {
     "name": "stdout",
     "output_type": "stream",
     "text": [
      "[[1 2 3 4 5 6 7 8 9]\n",
      " [9 8 7 6 5 4 3 2 1]\n",
      " [0 0 0 0 0 0 0 0 0]]\n"
     ]
    },
    {
     "data": {
      "text/plain": [
       "array([[1, 2, 3],\n",
       "       [9, 8, 7],\n",
       "       [0, 0, 0]])"
      ]
     },
     "execution_count": 23,
     "metadata": {},
     "output_type": "execute_result"
    }
   ],
   "source": [
    "print(array2d)\n",
    "array2d[0:3,0:3]"
   ]
  },
  {
   "cell_type": "markdown",
   "id": "fba4dbbf",
   "metadata": {
    "papermill": {
     "duration": 0.006835,
     "end_time": "2025-02-09T07:20:38.674090",
     "exception": false,
     "start_time": "2025-02-09T07:20:38.667255",
     "status": "completed"
    },
    "tags": []
   },
   "source": [
    "### Data Type \n",
    "* #### Integer - i\n",
    "* #### Unsigned Integer - u\n",
    "* #### Float - f\n",
    "* #### Complex - c\n",
    "* #### Boolean - b\n",
    "* #### String - S\n",
    "* #### TimeDelta - m\n",
    "* #### DateTime - M\n",
    "* #### Object - O\n",
    "* #### Unicode String - U\n",
    "* #### Memory - V "
   ]
  },
  {
   "cell_type": "code",
   "execution_count": 24,
   "id": "161d659f",
   "metadata": {
    "execution": {
     "iopub.execute_input": "2025-02-09T07:20:38.688824Z",
     "iopub.status.busy": "2025-02-09T07:20:38.688623Z",
     "iopub.status.idle": "2025-02-09T07:20:38.692332Z",
     "shell.execute_reply": "2025-02-09T07:20:38.691727Z"
    },
    "papermill": {
     "duration": 0.012382,
     "end_time": "2025-02-09T07:20:38.693452",
     "exception": false,
     "start_time": "2025-02-09T07:20:38.681070",
     "status": "completed"
    },
    "tags": []
   },
   "outputs": [
    {
     "name": "stdout",
     "output_type": "stream",
     "text": [
      "[1, 2, 3, 4]\n",
      "['1' '2' '3' '4']\n"
     ]
    }
   ],
   "source": [
    "print(a)\n",
    "print(np.array(a,dtype='U'))\n"
   ]
  },
  {
   "cell_type": "code",
   "execution_count": 25,
   "id": "e6766ed9",
   "metadata": {
    "execution": {
     "iopub.execute_input": "2025-02-09T07:20:38.708225Z",
     "iopub.status.busy": "2025-02-09T07:20:38.708032Z",
     "iopub.status.idle": "2025-02-09T07:20:38.710666Z",
     "shell.execute_reply": "2025-02-09T07:20:38.710027Z"
    },
    "papermill": {
     "duration": 0.01118,
     "end_time": "2025-02-09T07:20:38.711764",
     "exception": false,
     "start_time": "2025-02-09T07:20:38.700584",
     "status": "completed"
    },
    "tags": []
   },
   "outputs": [],
   "source": [
    "# mixture conversion not allowed \n",
    "# l1 = ['a','b','1','2']\n",
    "# np_Array = np.array(l1)\n",
    "# np_Array.astype(int)\n"
   ]
  },
  {
   "cell_type": "markdown",
   "id": "6a076b25",
   "metadata": {
    "papermill": {
     "duration": 0.006923,
     "end_time": "2025-02-09T07:20:38.725922",
     "exception": false,
     "start_time": "2025-02-09T07:20:38.718999",
     "status": "completed"
    },
    "tags": []
   },
   "source": [
    "#### Shape \n",
    "* #### ArrayName.shape - to get the dimensions"
   ]
  },
  {
   "cell_type": "code",
   "execution_count": 26,
   "id": "8ae1d782",
   "metadata": {
    "execution": {
     "iopub.execute_input": "2025-02-09T07:20:38.740879Z",
     "iopub.status.busy": "2025-02-09T07:20:38.740655Z",
     "iopub.status.idle": "2025-02-09T07:20:38.744629Z",
     "shell.execute_reply": "2025-02-09T07:20:38.744039Z"
    },
    "papermill": {
     "duration": 0.012583,
     "end_time": "2025-02-09T07:20:38.745722",
     "exception": false,
     "start_time": "2025-02-09T07:20:38.733139",
     "status": "completed"
    },
    "tags": []
   },
   "outputs": [
    {
     "data": {
      "text/plain": [
       "(2, 3, 3)"
      ]
     },
     "execution_count": 26,
     "metadata": {},
     "output_type": "execute_result"
    }
   ],
   "source": [
    "array3d.shape"
   ]
  },
  {
   "cell_type": "code",
   "execution_count": 27,
   "id": "3b4fb3d2",
   "metadata": {
    "execution": {
     "iopub.execute_input": "2025-02-09T07:20:38.760668Z",
     "iopub.status.busy": "2025-02-09T07:20:38.760472Z",
     "iopub.status.idle": "2025-02-09T07:20:38.764721Z",
     "shell.execute_reply": "2025-02-09T07:20:38.763986Z"
    },
    "papermill": {
     "duration": 0.013017,
     "end_time": "2025-02-09T07:20:38.766011",
     "exception": false,
     "start_time": "2025-02-09T07:20:38.752994",
     "status": "completed"
    },
    "tags": []
   },
   "outputs": [
    {
     "data": {
      "text/plain": [
       "(1, 1, 1, 1, 4)"
      ]
     },
     "execution_count": 27,
     "metadata": {},
     "output_type": "execute_result"
    }
   ],
   "source": [
    "arr2 = np.array(np.arange(4),ndmin=5)\n",
    "arr2.shape"
   ]
  },
  {
   "cell_type": "markdown",
   "id": "9e5ce126",
   "metadata": {
    "papermill": {
     "duration": 0.007058,
     "end_time": "2025-02-09T07:20:38.780299",
     "exception": false,
     "start_time": "2025-02-09T07:20:38.773241",
     "status": "completed"
    },
    "tags": []
   },
   "source": [
    "### Reshape\n",
    "* #### ArrayName.reshape(dimensions)\n",
    "* #### ArrayName.reshape(x,y,z)"
   ]
  },
  {
   "cell_type": "code",
   "execution_count": 28,
   "id": "018cd06d",
   "metadata": {
    "execution": {
     "iopub.execute_input": "2025-02-09T07:20:38.795383Z",
     "iopub.status.busy": "2025-02-09T07:20:38.795192Z",
     "iopub.status.idle": "2025-02-09T07:20:38.801166Z",
     "shell.execute_reply": "2025-02-09T07:20:38.800514Z"
    },
    "papermill": {
     "duration": 0.014851,
     "end_time": "2025-02-09T07:20:38.802408",
     "exception": false,
     "start_time": "2025-02-09T07:20:38.787557",
     "status": "completed"
    },
    "tags": []
   },
   "outputs": [
    {
     "data": {
      "text/plain": [
       "array([[14,  9, 10,  3],\n",
       "       [ 5,  8, 14,  2],\n",
       "       [10,  9, 13,  5],\n",
       "       [ 4,  1,  4, 11]])"
      ]
     },
     "execution_count": 28,
     "metadata": {},
     "output_type": "execute_result"
    }
   ],
   "source": [
    "randomArray = np.random.randint(1,16,16)\n",
    "len(randomArray)\n",
    "randomArray2d=randomArray.reshape(4,4)\n",
    "randomArray2d"
   ]
  },
  {
   "cell_type": "markdown",
   "id": "9f1d8a48",
   "metadata": {
    "papermill": {
     "duration": 0.007192,
     "end_time": "2025-02-09T07:20:38.817488",
     "exception": false,
     "start_time": "2025-02-09T07:20:38.810296",
     "status": "completed"
    },
    "tags": []
   },
   "source": [
    "### To flatten an n-dimension array to one dimension array\n",
    "* #### ArrayName.reshape(-1)"
   ]
  },
  {
   "cell_type": "code",
   "execution_count": 29,
   "id": "bd96ebad",
   "metadata": {
    "execution": {
     "iopub.execute_input": "2025-02-09T07:20:38.832718Z",
     "iopub.status.busy": "2025-02-09T07:20:38.832505Z",
     "iopub.status.idle": "2025-02-09T07:20:38.837345Z",
     "shell.execute_reply": "2025-02-09T07:20:38.836433Z"
    },
    "papermill": {
     "duration": 0.013856,
     "end_time": "2025-02-09T07:20:38.838573",
     "exception": false,
     "start_time": "2025-02-09T07:20:38.824717",
     "status": "completed"
    },
    "tags": []
   },
   "outputs": [
    {
     "name": "stdout",
     "output_type": "stream",
     "text": [
      "(4, 4)\n"
     ]
    },
    {
     "data": {
      "text/plain": [
       "array([14,  9, 10,  3,  5,  8, 14,  2, 10,  9, 13,  5,  4,  1,  4, 11])"
      ]
     },
     "execution_count": 29,
     "metadata": {},
     "output_type": "execute_result"
    }
   ],
   "source": [
    "print(randomArray2d.shape)\n",
    "randomArray2d.reshape(-1)"
   ]
  },
  {
   "cell_type": "markdown",
   "id": "decf5226",
   "metadata": {
    "papermill": {
     "duration": 0.007147,
     "end_time": "2025-02-09T07:20:38.853418",
     "exception": false,
     "start_time": "2025-02-09T07:20:38.846271",
     "status": "completed"
    },
    "tags": []
   },
   "source": [
    "### nditer\n",
    "* #### To iterate over complex array in less code\n",
    "* #### for i in np.nditer(ArrayName):\n"
   ]
  },
  {
   "cell_type": "code",
   "execution_count": 30,
   "id": "803e319e",
   "metadata": {
    "execution": {
     "iopub.execute_input": "2025-02-09T07:20:38.868892Z",
     "iopub.status.busy": "2025-02-09T07:20:38.868662Z",
     "iopub.status.idle": "2025-02-09T07:20:38.872996Z",
     "shell.execute_reply": "2025-02-09T07:20:38.872281Z"
    },
    "papermill": {
     "duration": 0.013344,
     "end_time": "2025-02-09T07:20:38.874118",
     "exception": false,
     "start_time": "2025-02-09T07:20:38.860774",
     "status": "completed"
    },
    "tags": []
   },
   "outputs": [
    {
     "name": "stdout",
     "output_type": "stream",
     "text": [
      "[[[ 1  2  3]\n",
      "  [ 4  5  6]\n",
      "  [ 7  8  9]]\n",
      "\n",
      " [[-1 -2 -3]\n",
      "  [-4 -5 -6]\n",
      "  [-7 -8 -9]]]\n",
      "1\n",
      "3\n",
      "4\n",
      "6\n",
      "7\n",
      "9\n"
     ]
    }
   ],
   "source": [
    "print(array3d)\n",
    "for i in np.nditer(array3d[0,:,::2]):\n",
    "    print(i)"
   ]
  },
  {
   "cell_type": "code",
   "execution_count": null,
   "id": "bab6d847",
   "metadata": {
    "papermill": {
     "duration": 0.007263,
     "end_time": "2025-02-09T07:20:38.888816",
     "exception": false,
     "start_time": "2025-02-09T07:20:38.881553",
     "status": "completed"
    },
    "tags": []
   },
   "outputs": [],
   "source": []
  }
 ],
 "metadata": {
  "kaggle": {
   "accelerator": "none",
   "dataSources": [
    {
     "datasetId": 6590223,
     "sourceId": 10643478,
     "sourceType": "datasetVersion"
    }
   ],
   "dockerImageVersionId": 30886,
   "isGpuEnabled": false,
   "isInternetEnabled": false,
   "language": "python",
   "sourceType": "notebook"
  },
  "kernelspec": {
   "display_name": "Python 3",
   "language": "python",
   "name": "python3"
  },
  "language_info": {
   "codemirror_mode": {
    "name": "ipython",
    "version": 3
   },
   "file_extension": ".py",
   "mimetype": "text/x-python",
   "name": "python",
   "nbconvert_exporter": "python",
   "pygments_lexer": "ipython3",
   "version": "3.10.12"
  },
  "papermill": {
   "default_parameters": {},
   "duration": 3.643611,
   "end_time": "2025-02-09T07:20:39.212710",
   "environment_variables": {},
   "exception": null,
   "input_path": "__notebook__.ipynb",
   "output_path": "__notebook__.ipynb",
   "parameters": {},
   "start_time": "2025-02-09T07:20:35.569099",
   "version": "2.6.0"
  }
 },
 "nbformat": 4,
 "nbformat_minor": 5
}
